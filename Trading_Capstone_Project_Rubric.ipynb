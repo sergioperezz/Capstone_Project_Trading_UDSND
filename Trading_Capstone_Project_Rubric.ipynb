{
 "cells": [
  {
   "cell_type": "markdown",
   "metadata": {},
   "source": [
    " "
   ]
  },
  {
   "cell_type": "markdown",
   "metadata": {},
   "source": [
    "# Capstone Project: Price forecast for Trading"
   ]
  },
  {
   "cell_type": "markdown",
   "metadata": {},
   "source": [
    "## Project Definition"
   ]
  },
  {
   "cell_type": "markdown",
   "metadata": {},
   "source": [
    "### Project Overview\n",
    "\n",
    "Stock prediction is a very studied topic. There are a lot of approaches in how to predict future prices to invest money. Here, we will studied a first approach to it.\n",
    "\n",
    "### Problem Statement\n",
    "\n",
    "In this project, we are going to try to forecast the Adj price for a range of days and tickers. This is a very ambitious project that not few people has tried. In this project, we will deep into some troubles we will face in the way to achieve it.\n",
    "The strategy will be to get previous 365 days to predict the price of a range of days.\n",
    "\n",
    "### Metrics \n",
    "\n",
    "W will use r square SVR:The coefficient R^2 is defined as (1 - u/v), where u is the residual sum of squares ((y_true - y_pred) ** 2).sum() and v is the total sum of squares ((y_true - y_true.mean()) ** 2).sum(). The best possible score is 1.0 and it can be negative (because the model can be arbitrarily worse). A constant model that always predicts the expected value of y, disregarding the input features, would get a R^2 score of 0.0.\n",
    "\n"
   ]
  },
  {
   "cell_type": "code",
   "execution_count": 1,
   "metadata": {},
   "outputs": [],
   "source": [
    "\n",
    "%matplotlib inline\n",
    "import matplotlib.pyplot as plt\n",
    "\n",
    "import numpy as np\n",
    "from numpy import array\n",
    "import pandas as pd\n",
    "import math\n",
    "from datetime import datetime as dt\n",
    "from IPython.display import Image, HTML\n",
    "\n",
    "from sklearn.svm import SVR\n",
    "from sklearn.preprocessing import MinMaxScaler\n",
    "from sklearn.metrics import mean_squared_error, r2_score\n",
    "\n",
    "from tensorflow.keras.models import Sequential\n",
    "from tensorflow.keras.layers import LSTM, Dense, Activation, Dropout\n",
    "from tensorflow.keras.optimizers import Adam\n",
    "import tensorflow.keras.backend as K\n",
    "import yfinance as yf\n",
    "from matplotlib import pyplot\n",
    "import datetime"
   ]
  },
  {
   "cell_type": "markdown",
   "metadata": {},
   "source": [
    "## Analysis"
   ]
  },
  {
   "cell_type": "markdown",
   "metadata": {},
   "source": [
    "### Data Exploration\n",
    "\n",
    "The first part is to get the finance data of the tickers from yahoo finance API. The function returned us the Oen, Close, low, high, Volume and Adj Close. As we will try to predict Adj close, this will be the only column we will get. The format to get more than one ticker will be \"AMZN AAPL\"."
   ]
  },
  {
   "cell_type": "code",
   "execution_count": 16,
   "metadata": {},
   "outputs": [
    {
     "name": "stdout",
     "output_type": "stream",
     "text": [
      "[*********************100%***********************]  2 of 2 completed\n"
     ]
    },
    {
     "data": {
      "text/html": [
       "<div>\n",
       "<style scoped>\n",
       "    .dataframe tbody tr th:only-of-type {\n",
       "        vertical-align: middle;\n",
       "    }\n",
       "\n",
       "    .dataframe tbody tr th {\n",
       "        vertical-align: top;\n",
       "    }\n",
       "\n",
       "    .dataframe thead th {\n",
       "        text-align: right;\n",
       "    }\n",
       "</style>\n",
       "<table border=\"1\" class=\"dataframe\">\n",
       "  <thead>\n",
       "    <tr style=\"text-align: right;\">\n",
       "      <th></th>\n",
       "      <th>AMZN</th>\n",
       "      <th>GOOGL</th>\n",
       "    </tr>\n",
       "    <tr>\n",
       "      <th>Date</th>\n",
       "      <th></th>\n",
       "      <th></th>\n",
       "    </tr>\n",
       "  </thead>\n",
       "  <tbody>\n",
       "    <tr>\n",
       "      <th>2010-07-14</th>\n",
       "      <td>123.300003</td>\n",
       "      <td>245.915909</td>\n",
       "    </tr>\n",
       "    <tr>\n",
       "      <th>2010-07-15</th>\n",
       "      <td>122.059998</td>\n",
       "      <td>247.257263</td>\n",
       "    </tr>\n",
       "    <tr>\n",
       "      <th>2010-07-16</th>\n",
       "      <td>118.489998</td>\n",
       "      <td>230.035034</td>\n",
       "    </tr>\n",
       "    <tr>\n",
       "      <th>2010-07-19</th>\n",
       "      <td>119.940002</td>\n",
       "      <td>233.323318</td>\n",
       "    </tr>\n",
       "    <tr>\n",
       "      <th>2010-07-20</th>\n",
       "      <td>120.099998</td>\n",
       "      <td>241.036041</td>\n",
       "    </tr>\n",
       "    <tr>\n",
       "      <th>...</th>\n",
       "      <td>...</td>\n",
       "      <td>...</td>\n",
       "    </tr>\n",
       "    <tr>\n",
       "      <th>2020-07-08</th>\n",
       "      <td>3081.110107</td>\n",
       "      <td>1503.599976</td>\n",
       "    </tr>\n",
       "    <tr>\n",
       "      <th>2020-07-09</th>\n",
       "      <td>3182.629883</td>\n",
       "      <td>1518.660034</td>\n",
       "    </tr>\n",
       "    <tr>\n",
       "      <th>2020-07-10</th>\n",
       "      <td>3200.000000</td>\n",
       "      <td>1539.010010</td>\n",
       "    </tr>\n",
       "    <tr>\n",
       "      <th>2020-07-13</th>\n",
       "      <td>3104.000000</td>\n",
       "      <td>1512.229980</td>\n",
       "    </tr>\n",
       "    <tr>\n",
       "      <th>2020-07-14</th>\n",
       "      <td>3056.550049</td>\n",
       "      <td>1503.000000</td>\n",
       "    </tr>\n",
       "  </tbody>\n",
       "</table>\n",
       "<p>2518 rows × 2 columns</p>\n",
       "</div>"
      ],
      "text/plain": [
       "                   AMZN        GOOGL\n",
       "Date                                \n",
       "2010-07-14   123.300003   245.915909\n",
       "2010-07-15   122.059998   247.257263\n",
       "2010-07-16   118.489998   230.035034\n",
       "2010-07-19   119.940002   233.323318\n",
       "2010-07-20   120.099998   241.036041\n",
       "...                 ...          ...\n",
       "2020-07-08  3081.110107  1503.599976\n",
       "2020-07-09  3182.629883  1518.660034\n",
       "2020-07-10  3200.000000  1539.010010\n",
       "2020-07-13  3104.000000  1512.229980\n",
       "2020-07-14  3056.550049  1503.000000\n",
       "\n",
       "[2518 rows x 2 columns]"
      ]
     },
     "execution_count": 16,
     "metadata": {},
     "output_type": "execute_result"
    }
   ],
   "source": [
    "def get_prices(comp):\n",
    "    \n",
    "    try: \n",
    "        fi_data = yf.download(comp,period=\"10y\")\n",
    "\n",
    "        if \" \" in comp:\n",
    "            return fi_data['Adj Close']\n",
    "\n",
    "        else:\n",
    "            return pd.DataFrame({'Date':fi_data['Adj Close'].index, comp :fi_data['Adj Close'].values}).set_index(\"Date\")\n",
    "    except:\n",
    "        print(\"Incorrect input ticker.Please, introduce the company tickers between spaces: 'AMZN GOOGL' \")\n",
    "   \n",
    "df=get_prices(\"AMZN GOOGL\")\n",
    "df"
   ]
  },
  {
   "cell_type": "markdown",
   "metadata": {},
   "source": [
    "### Data Visualization"
   ]
  },
  {
   "cell_type": "code",
   "execution_count": 43,
   "metadata": {},
   "outputs": [
    {
     "data": {
      "text/plain": [
       "<matplotlib.axes._subplots.AxesSubplot at 0x249a5acbe88>"
      ]
     },
     "execution_count": 43,
     "metadata": {},
     "output_type": "execute_result"
    },
    {
     "data": {
      "image/png": "[encoded data removed]",
      "text/plain": [
       "<Figure size 432x288 with 1 Axes>"
      ]
     },
     "metadata": {
      "needs_background": "light"
     },
     "output_type": "display_data"
    }
   ],
   "source": [
    "df.plot(kind=\"line\")\n"
   ]
  },
  {
   "cell_type": "markdown",
   "metadata": {},
   "source": [
    "## Methodology"
   ]
  },
  {
   "cell_type": "code",
   "execution_count": 47,
   "metadata": {},
   "outputs": [
    {
     "data": {
      "text/plain": [
       "(                   AMZN\n",
       " Date                   \n",
       " 2010-07-14   123.300003\n",
       " 2010-07-15   122.059998\n",
       " 2010-07-16   118.489998\n",
       " 2010-07-19   119.940002\n",
       " 2010-07-20   120.099998\n",
       " ...                 ...\n",
       " 2020-07-08  3081.110107\n",
       " 2020-07-09  3182.629883\n",
       " 2020-07-10  3200.000000\n",
       " 2020-07-13  3104.000000\n",
       " 2020-07-14  3056.550049\n",
       " \n",
       " [2518 rows x 1 columns],\n",
       " 'AMZN')"
      ]
     },
     "execution_count": 47,
     "metadata": {},
     "output_type": "execute_result"
    }
   ],
   "source": [
    "# get values, tickers name and drop null values\n",
    "def get_value_name(tickers,i):\n",
    "    ticker_value = tickers[[tickers.columns[i]]].dropna()\n",
    "    ticker_name = tickers.columns[i]\n",
    "    return ticker_value, ticker_name \n",
    "get_value_name(df,0)"
   ]
  },
  {
   "cell_type": "markdown",
   "metadata": {},
   "source": [
    "### Data Preprocessing\n",
    "\n",
    "Drop null values and make arrays "
   ]
  },
  {
   "cell_type": "code",
   "execution_count": 44,
   "metadata": {},
   "outputs": [],
   "source": [
    "def make_arrays(train_tract1,test_tract1):\n",
    "    X_train_tract1_array = train_tract1.dropna().drop(train_tract1.columns[0], axis=1).values\n",
    "    y_train_tract1_array = train_tract1.dropna()[train_tract1.columns[0]].values\n",
    "    X_test_tract1_array = test_tract1.dropna().drop(test_tract1.columns[0], axis=1).values\n",
    "    y_test_tract1_array = test_tract1.dropna()[test_tract1.columns[0]].values    \n",
    "    return X_train_tract1_array, y_train_tract1_array, X_test_tract1_array, y_test_tract1_array\n"
   ]
  },
  {
   "cell_type": "markdown",
   "metadata": {},
   "source": [
    "Data transformation. To improve the algorithm, the data will be scaled."
   ]
  },
  {
   "cell_type": "code",
   "execution_count": 46,
   "metadata": {},
   "outputs": [],
   "source": [
    "def data_transformation(train_tract1,test_tract1):\n",
    "    scaler = MinMaxScaler()\n",
    "    train_tract1_scaled = scaler.fit_transform(train_tract1)\n",
    "    test_tract1_scaled = scaler.fit_transform(test_tract1)          \n",
    "    train_tract1_scaled_df = pd.DataFrame(train_tract1_scaled, index = train_tract1.index, columns=[train_tract1.columns[0]])\n",
    "    test_tract1_scaled_df = pd.DataFrame(test_tract1_scaled,\n",
    "                                         index = test_tract1.index, columns=[test_tract1.columns[0]])\n",
    "    return train_tract1_scaled_df, test_tract1_scaled_df, scaler "
   ]
  },
  {
   "cell_type": "markdown",
   "metadata": {},
   "source": [
    "### Implementation"
   ]
  },
  {
   "cell_type": "markdown",
   "metadata": {},
   "source": [
    "Feature builder.This section creates feature set with lag number of predictors. Creating features using lagged data\n"
   ]
  },
  {
   "cell_type": "code",
   "execution_count": 48,
   "metadata": {},
   "outputs": [],
   "source": [
    "def timeseries_feature_builder(df, lag):\n",
    "    df_copy = df.copy()\n",
    "    for i in range(1,lag):\n",
    "        df_copy['lag'+str(i)] = df.shift(i) \n",
    "    return df_copy\n",
    "    df_copy = df.copy()\n",
    "    "
   ]
  },
  {
   "cell_type": "code",
   "execution_count": 22,
   "metadata": {},
   "outputs": [],
   "source": [
    "#train-test split for a user input ratio\n",
    "def train_test_split(value, name, ratio):\n",
    "    nrow = len(value)\n",
    "    print(name+' total samples: ',nrow)\n",
    "    split_row = int((nrow)*ratio)\n",
    "    print('Training samples: ',split_row)\n",
    "    print('Testing samples: ',nrow-split_row)\n",
    "    train = value.iloc[:split_row]\n",
    "    test = value.iloc[split_row:]\n",
    "    return train, test, split_row "
   ]
  },
  {
   "cell_type": "code",
   "execution_count": 49,
   "metadata": {},
   "outputs": [],
   "source": [
    "# fitting & Validating using SVR\n",
    "def fit_svr(X_train_tract1_array, y_train_tract1_array, X_test_tract1_array, y_test_tract1_array):\n",
    "    model_svr = SVR(kernel='rbf', tol=0.001, C=1.0, epsilon=0.1)#default\n",
    "    model_svr.fit(X_train_tract1_array,y_train_tract1_array)\n",
    "    y_pred_train_tract1 = model_svr.predict(X_train_tract1_array)\n",
    "    y_pred_test_tract1 = model_svr.predict(X_test_tract1_array)        \n",
    "    print('r-square_SVR_Test: ', round(model_svr.score(X_test_tract1_array,y_test_tract1_array),2))\n",
    "    return model_svr, y_pred_test_tract1  "
   ]
  },
  {
   "cell_type": "markdown",
   "metadata": {},
   "source": [
    "### Refinement "
   ]
  },
  {
   "cell_type": "markdown",
   "metadata": {},
   "source": [
    "change SVR parameters to:<br>\n",
    "kernel='rbf' <br>\n",
    "gamma='auto'<br>\n",
    "tol=0.001<br>\n",
    "C=10.0<br>\n",
    "epsilon=0.001<br>"
   ]
  },
  {
   "cell_type": "code",
   "execution_count": 50,
   "metadata": {},
   "outputs": [],
   "source": [
    "# fitting & Validating using SVR\n",
    "def fit_svr(X_train_tract1_array, y_train_tract1_array, X_test_tract1_array, y_test_tract1_array):\n",
    "    model_svr = SVR(kernel='rbf', gamma='auto', tol=0.001, C=10.0, epsilon=0.001)\n",
    "    model_svr.fit(X_train_tract1_array,y_train_tract1_array)\n",
    "    y_pred_train_tract1 = model_svr.predict(X_train_tract1_array)\n",
    "    y_pred_test_tract1 = model_svr.predict(X_test_tract1_array)        \n",
    "    print('r-square_SVR_Test: ', round(model_svr.score(X_test_tract1_array,y_test_tract1_array),2))\n",
    "    return model_svr, y_pred_test_tract1   "
   ]
  },
  {
   "cell_type": "markdown",
   "metadata": {},
   "source": [
    "## Results"
   ]
  },
  {
   "cell_type": "code",
   "execution_count": 28,
   "metadata": {},
   "outputs": [],
   "source": [
    "# validation result  \n",
    "def valid_result_svr(scaler, y_pred_test_tract1, ticker_value, split_row, lag):\n",
    "    new_test_tract1 = ticker_value.iloc[split_row:]\n",
    "    test_tract1_pred = new_test_tract1.iloc[lag:].copy()\n",
    "    y_pred_test_tract1_transformed = scaler.inverse_transform([y_pred_test_tract1])\n",
    "    y_pred_test_tract1_transformed_reshaped = np.reshape(y_pred_test_tract1_transformed,(y_pred_test_tract1_transformed.shape[1],-1))\n",
    "    test_tract1_pred['Forecast'] = np.array(y_pred_test_tract1_transformed_reshaped)\n",
    "    return test_tract1_pred"
   ]
  },
  {
   "cell_type": "code",
   "execution_count": 29,
   "metadata": {},
   "outputs": [],
   "source": [
    "# multi-step future forecast\n",
    "def forecast_svr(X_test_tract1_array, days ,model_svr, lag, scaler):\n",
    "    last_test_sample = X_test_tract1_array[-1]        \n",
    "    X_last_test_sample = np.reshape(last_test_sample,(-1,X_test_tract1_array.shape[1]))        \n",
    "    y_pred_last_sample = model_svr.predict(X_last_test_sample)                \n",
    "    new_array = X_last_test_sample\n",
    "    new_predict = y_pred_last_sample\n",
    "    new_array = X_last_test_sample\n",
    "    new_predict = y_pred_last_sample\n",
    "\n",
    "    seven_days_svr=[]\n",
    "    for i in range(0,days):               \n",
    "            new_array = np.insert(new_array, 0, new_predict)                \n",
    "            new_array = np.delete(new_array, -1)\n",
    "            new_array_reshape = np.reshape(new_array, (-1,lag))                \n",
    "            new_predict = model_svr.predict(new_array_reshape)\n",
    "            temp_predict = scaler.inverse_transform([new_predict])\n",
    "            seven_days_svr.append(temp_predict[0][0].round(2))\n",
    "            \n",
    "    return seven_days_svr "
   ]
  },
  {
   "cell_type": "code",
   "execution_count": 30,
   "metadata": {},
   "outputs": [],
   "source": [
    "def company_close_svr(tickers, lag,start_day, days):     \n",
    "    \n",
    "    seven_day_forecast_svr = pd.DataFrame(index=pd.date_range(start=start_day, periods=days+1, freq='D', closed='right')) \n",
    "    \n",
    "    if len(tickers.columns)>1:\n",
    "        fig, ax = plt.subplots(len(tickers.columns),1,figsize=(15,10),sharex=True)\n",
    "    else:\n",
    "        fig, axi = plt.subplots(len(tickers.columns),1,figsize=(15,10),sharex=True)\n",
    "        ax=array([axi])\n",
    "    for i in range(len(tickers.columns)):\n",
    "        \n",
    "        print(i)\n",
    "        # preprocessing\n",
    "        ticker_value, ticker_name = get_value_name(tickers,i)       \n",
    "        train_tract1, test_tract1, split_row = train_test_split(ticker_value, ticker_name, 0.80)              \n",
    "        train_tract1_scaled_df, test_tract1_scaled_df, scaler = data_transformation(train_tract1,test_tract1)        \n",
    "        train_tract1 = timeseries_feature_builder(train_tract1_scaled_df,lag+1)\n",
    "        test_tract1 = timeseries_feature_builder(test_tract1_scaled_df, lag+1)        \n",
    "        X_train_tract1_array, y_train_tract1_array, X_test_tract1_array, y_test_tract1_array = make_arrays(train_tract1,\n",
    "                                                                                                           test_tract1)\n",
    "\n",
    "        # SVR modeling\n",
    "        model_svr, y_pred_test_tract1 = fit_svr(X_train_tract1_array, y_train_tract1_array,\n",
    "                                                X_test_tract1_array, y_test_tract1_array)                       \n",
    "        test_tract1_pred = valid_result_svr(scaler, y_pred_test_tract1, ticker_value, split_row, lag)        \n",
    "        seven_days_svr = forecast_svr(X_test_tract1_array, days, model_svr, lag, scaler)            \n",
    "        seven_day_forecast_svr[ticker_name] = np.array(seven_days_svr)        \n",
    "        \n",
    "        # plot result\n",
    "        \n",
    "\n",
    "        #plt.figure(figsize=(20,5))\n",
    "        ax[i].plot(test_tract1_pred)\n",
    "        ax[i].plot(seven_day_forecast_svr[ticker_name], color='red', label='forecast') \n",
    "        ax[i].set_ylabel('Value ($)')\n",
    "        ax[i].legend(loc='upper right')\n",
    "        ax[i].set_title(ticker_name + ' Forecast')\n",
    "        #plt.savefig(\"app/images/\"+ticker_name+\".png\")\n",
    "        #ax[i].show()    \n",
    "    \n",
    "    fig.savefig(\"app/images/plot.png\")\n",
    "    return(seven_day_forecast_svr)"
   ]
  },
  {
   "cell_type": "markdown",
   "metadata": {},
   "source": [
    "### Model Evaluation and Validation"
   ]
  },
  {
   "cell_type": "code",
   "execution_count": 31,
   "metadata": {},
   "outputs": [
    {
     "name": "stdout",
     "output_type": "stream",
     "text": [
      "[*********************100%***********************]  2 of 2 completed\n",
      "17\n",
      "2020-07-13\n",
      "0\n",
      "AAPL total samples:  2518\n",
      "Training samples:  2014\n",
      "Testing samples:  504\n",
      "r-square_SVR_Test:  0.92\n",
      "1\n",
      "AMZN total samples:  2518\n",
      "Training samples:  2014\n",
      "Testing samples:  504\n",
      "r-square_SVR_Test:  0.95\n",
      "Wall time: 4.64 s\n"
     ]
    },
    {
     "data": {
      "text/html": [
       "<div>\n",
       "<style scoped>\n",
       "    .dataframe tbody tr th:only-of-type {\n",
       "        vertical-align: middle;\n",
       "    }\n",
       "\n",
       "    .dataframe tbody tr th {\n",
       "        vertical-align: top;\n",
       "    }\n",
       "\n",
       "    .dataframe thead th {\n",
       "        text-align: right;\n",
       "    }\n",
       "</style>\n",
       "<table border=\"1\" class=\"dataframe\">\n",
       "  <thead>\n",
       "    <tr style=\"text-align: right;\">\n",
       "      <th></th>\n",
       "      <th>AAPL</th>\n",
       "      <th>AMZN</th>\n",
       "    </tr>\n",
       "  </thead>\n",
       "  <tbody>\n",
       "    <tr>\n",
       "      <th>2020-07-14</th>\n",
       "      <td>369.41</td>\n",
       "      <td>3037.70</td>\n",
       "    </tr>\n",
       "    <tr>\n",
       "      <th>2020-07-15</th>\n",
       "      <td>364.76</td>\n",
       "      <td>3020.88</td>\n",
       "    </tr>\n",
       "    <tr>\n",
       "      <th>2020-07-16</th>\n",
       "      <td>360.42</td>\n",
       "      <td>3011.59</td>\n",
       "    </tr>\n",
       "    <tr>\n",
       "      <th>2020-07-17</th>\n",
       "      <td>355.64</td>\n",
       "      <td>2999.72</td>\n",
       "    </tr>\n",
       "    <tr>\n",
       "      <th>2020-07-18</th>\n",
       "      <td>352.55</td>\n",
       "      <td>2988.85</td>\n",
       "    </tr>\n",
       "    <tr>\n",
       "      <th>2020-07-19</th>\n",
       "      <td>349.20</td>\n",
       "      <td>2980.82</td>\n",
       "    </tr>\n",
       "    <tr>\n",
       "      <th>2020-07-20</th>\n",
       "      <td>345.18</td>\n",
       "      <td>2971.82</td>\n",
       "    </tr>\n",
       "    <tr>\n",
       "      <th>2020-07-21</th>\n",
       "      <td>341.94</td>\n",
       "      <td>2970.60</td>\n",
       "    </tr>\n",
       "    <tr>\n",
       "      <th>2020-07-22</th>\n",
       "      <td>338.49</td>\n",
       "      <td>2967.24</td>\n",
       "    </tr>\n",
       "    <tr>\n",
       "      <th>2020-07-23</th>\n",
       "      <td>334.02</td>\n",
       "      <td>2967.43</td>\n",
       "    </tr>\n",
       "    <tr>\n",
       "      <th>2020-07-24</th>\n",
       "      <td>329.43</td>\n",
       "      <td>2963.38</td>\n",
       "    </tr>\n",
       "    <tr>\n",
       "      <th>2020-07-25</th>\n",
       "      <td>326.33</td>\n",
       "      <td>2955.31</td>\n",
       "    </tr>\n",
       "    <tr>\n",
       "      <th>2020-07-26</th>\n",
       "      <td>322.47</td>\n",
       "      <td>2939.39</td>\n",
       "    </tr>\n",
       "    <tr>\n",
       "      <th>2020-07-27</th>\n",
       "      <td>320.54</td>\n",
       "      <td>2929.52</td>\n",
       "    </tr>\n",
       "    <tr>\n",
       "      <th>2020-07-28</th>\n",
       "      <td>318.76</td>\n",
       "      <td>2920.90</td>\n",
       "    </tr>\n",
       "    <tr>\n",
       "      <th>2020-07-29</th>\n",
       "      <td>314.20</td>\n",
       "      <td>2916.53</td>\n",
       "    </tr>\n",
       "    <tr>\n",
       "      <th>2020-07-30</th>\n",
       "      <td>310.33</td>\n",
       "      <td>2916.41</td>\n",
       "    </tr>\n",
       "  </tbody>\n",
       "</table>\n",
       "</div>"
      ],
      "text/plain": [
       "              AAPL     AMZN\n",
       "2020-07-14  369.41  3037.70\n",
       "2020-07-15  364.76  3020.88\n",
       "2020-07-16  360.42  3011.59\n",
       "2020-07-17  355.64  2999.72\n",
       "2020-07-18  352.55  2988.85\n",
       "2020-07-19  349.20  2980.82\n",
       "2020-07-20  345.18  2971.82\n",
       "2020-07-21  341.94  2970.60\n",
       "2020-07-22  338.49  2967.24\n",
       "2020-07-23  334.02  2967.43\n",
       "2020-07-24  329.43  2963.38\n",
       "2020-07-25  326.33  2955.31\n",
       "2020-07-26  322.47  2939.39\n",
       "2020-07-27  320.54  2929.52\n",
       "2020-07-28  318.76  2920.90\n",
       "2020-07-29  314.20  2916.53\n",
       "2020-07-30  310.33  2916.41"
      ]
     },
     "execution_count": 31,
     "metadata": {},
     "output_type": "execute_result"
    },
    {
     "data": {
      "image/png": "[encoded data removed]",
      "text/plain": [
       "<Figure size 1080x720 with 2 Axes>"
      ]
     },
     "metadata": {
      "needs_background": "light"
     },
     "output_type": "display_data"
    }
   ],
   "source": [
    "%%time\n",
    "def Get_data(start_date, end_date,tickers):\n",
    "    \n",
    "    \n",
    "    today=datetime.date.today()\n",
    "    day=datetime.timedelta(days=1)\n",
    "    yesterday=today-day\n",
    "    start_date_dt=datetime.datetime.strptime(start_date, '%Y-%m-%d').date()\n",
    "\n",
    "    end_date_dt=datetime.datetime.strptime(end_date, '%Y-%m-%d').date()\n",
    "    \n",
    "    if start_date_dt<yesterday:\n",
    "        return \"First day must be (at least) today. Please, set other first day\"\n",
    "\n",
    "    if abs((start_date_dt-end_date_dt).days)>31:\n",
    "        return \"Cannot forecast more than 31 days. Please, reduce the number of days to forecast\"\n",
    "   \n",
    "    if end_date_dt< start_date_dt:\n",
    "        return \"End day connot be before start day\"  \n",
    "    \n",
    "    data=get_prices(tickers)\n",
    "    \n",
    "    start_date_dt=datetime.datetime.strptime(start_date, '%Y-%m-%d').date()-day\n",
    "    print(str(abs((start_date_dt-end_date_dt).days)))\n",
    "    print(str(start_date_dt))\n",
    "    return company_close_svr(data, 365, start_date_dt,abs((start_date_dt-end_date_dt).days))\n",
    "    \n",
    "    \n",
    "result=Get_data(\"2020-07-14\",'2020-07-30',\"AMZN AAPL\")\n",
    "result"
   ]
  },
  {
   "cell_type": "markdown",
   "metadata": {},
   "source": [
    "### Justification\n",
    "\n",
    "The results show a R square SVR of 0.92 and 0.95 for the example companies, and we can see the algorithm follows the trend of the stock evolution.\n",
    "Also, it can be appreciate that for other points, the difference is quite significant."
   ]
  },
  {
   "cell_type": "markdown",
   "metadata": {},
   "source": [
    "## Conclusion\n",
    "\n",
    "### Reflection\n",
    "\n",
    "In this project, it have been made an approach of Stock forecasting using SVR. The results obtained have shown that our algorithm can follow trends, but it is not enough to invest money. \n",
    "\n",
    "Also, the results that forecast several days lead to a bad prediction. \n",
    "\n",
    "There are a lot of reasons of these results. Fincial markets have a lot of variables, and try to predict the future only with this data, seems quite difficult. Also, the increase of days to forescast increase the options of an relevant event to happen.\n",
    "\n",
    "### Improvements\n",
    "\n",
    "There are a lot of approach to improve this algorithm. One of them can be to use a deep learning network to check if it improves the results.\n",
    "\n",
    "Also, It can be used more data. Maybe create some technicals indicator, as can be the MACD indicator, or use sentimental analysis of news or twitter.\n",
    "<br>\n",
    "\n"
   ]
  },
  {
   "cell_type": "code",
   "execution_count": null,
   "metadata": {},
   "outputs": [],
   "source": []
  }
 ],
 "metadata": {
  "kernelspec": {
   "display_name": "Python 3",
   "language": "python",
   "name": "python3"
  },
  "language_info": {
   "codemirror_mode": {
    "name": "ipython",
    "version": 3
   },
   "file_extension": ".py",
   "mimetype": "text/x-python",
   "name": "python",
   "nbconvert_exporter": "python",
   "pygments_lexer": "ipython3",
   "version": "3.7.5"
  }
 },
 "nbformat": 4,
 "nbformat_minor": 4
}
